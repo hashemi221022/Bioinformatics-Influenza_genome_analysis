{
 "cells": [
  {
   "cell_type": "code",
   "execution_count": null,
   "id": "3632465e",
   "metadata": {},
   "outputs": [],
   "source": [
    "# Import library\n",
    "from Bio import Entrez, SeqIO # Extract info from NCBI\n",
    "from Bio.SeqUtils import molecular_weight # Molecular weight\n",
    "from Bio.SeqUtils import gc_fraction # GC content\n",
    "import matplotlib.pyplot as plt # Visualization\n",
    "from collections import Counter # Counter"
   ]
  },
  {
   "cell_type": "code",
   "execution_count": null,
   "id": "520a0376",
   "metadata": {},
   "outputs": [],
   "source": [
    "# Error handling\n",
    "class URLError(Exception):\n",
    "    \"\"\"Custom exception for URL errors.\"\"\"\n",
    "    pass\n",
    "class InvalidIDError(Exception):\n",
    "    \"\"\"Custom exception for invalid ID errors.\"\"\"\n",
    "    pass\n",
    "class InvalidFormatError(Exception):\n",
    "    \"\"\"Custom exception for invalid format errors.\"\"\"\n",
    "    pass\n",
    "class InvalidEmailError(Exception):\n",
    "    \"\"\"Custom exception for invalid email errors.\"\"\"\n",
    "    pass\n",
    "class InvalidDatabaseError(Exception):\n",
    "    \"\"\"Custom exception for invalid database errors.\"\"\"\n",
    "    pass\n",
    "class InvalidTermError(Exception):\n",
    "    \"\"\"Custom exception for invalid term errors.\"\"\"\n",
    "    pass\n",
    "class InvalidRetMaxError(Exception):\n",
    "    \"\"\"Custom exception for invalid retmax errors.\"\"\"\n",
    "    pass\n",
    "class InvalidRetStartError(Exception):\n",
    "    \"\"\"Custom exception for invalid retstart errors.\"\"\"\n",
    "    pass\n",
    "class InvalidRetModeError(Exception):\n",
    "    \"\"\"Custom exception for invalid retmode errors.\"\"\"\n",
    "    pass\n",
    "class InvalidRetTypeError(Exception):\n",
    "    \"\"\"Custom exception for invalid rettype errors.\"\"\"\n",
    "    pass\n",
    "class InvalidRetMaxError(Exception):\n",
    "    \"\"\"Custom exception for invalid retmax errors.\"\"\"\n",
    "    pass\n",
    "class InvalidRetStartError(Exception):\n",
    "    \"\"\"Custom exception for invalid retstart errors.\"\"\"\n",
    "    pass\n",
    "class InvalidRetModeError(Exception):\n",
    "    \"\"\"Custom exception for invalid retmode errors.\"\"\"\n",
    "    pass"
   ]
  }
 ],
 "metadata": {
  "kernelspec": {
   "display_name": "venv",
   "language": "python",
   "name": "python3"
  },
  "language_info": {
   "name": "python",
   "version": "3.13.1"
  }
 },
 "nbformat": 4,
 "nbformat_minor": 5
}
