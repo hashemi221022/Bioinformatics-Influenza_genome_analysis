{
 "cells": [
  {
   "cell_type": "code",
   "execution_count": null,
   "id": "3632465e",
   "metadata": {},
   "outputs": [],
   "source": [
    "# Import library\n",
    "from Bio import Entrez, SeqIO # Extract info from NCBI\n",
    "from Bio.SeqUtils import molecular_weight # Molecular weight\n",
    "from Bio.SeqUtils import gc_fraction # GC content\n",
    "import matplotlib.pyplot as plt # Visualization\n",
    "from collections import Counter # Counter"
   ]
  }
 ],
 "metadata": {
  "kernelspec": {
   "display_name": "venv",
   "language": "python",
   "name": "python3"
  },
  "language_info": {
   "name": "python",
   "version": "3.13.1"
  }
 },
 "nbformat": 4,
 "nbformat_minor": 5
}
